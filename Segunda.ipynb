{
  "nbformat": 4,
  "nbformat_minor": 0,
  "metadata": {
    "colab": {
      "name": "Segunda.ipynb",
      "provenance": [],
      "collapsed_sections": []
    },
    "kernelspec": {
      "name": "python3",
      "display_name": "Python 3"
    }
  },
  "cells": [
    {
      "cell_type": "code",
      "metadata": {
        "id": "roNZoqDJL4QV",
        "outputId": "c60c60a4-439f-4c0e-8488-e28a224cc0d1",
        "colab": {
          "base_uri": "https://localhost:8080/"
        }
      },
      "source": [
        "nome = input(\"Digite seu nome: \") #Variavel que recebe uma string do usuário através do input(), e já informando o que o usuário deve digitar \n",
        "cpf = input(\"Digite seu cpf, somente números: \")\n",
        "\n",
        "profissionais = ['Clínico geral', 'Dermatologista', 'Cardiologista', 'Ortopedista ', 'Clínico geral']\n",
        "\n",
        "def valor_consulta():\n",
        "  preco_consulta = [100, 150, 300, 250, 100] #Declarando os preços dos profissionais, na mesma ordem do o Array profissionais.\n",
        "  return preco_consulta[escolha]\n",
        "\n",
        "def triagem():\n",
        "  print('\\n', nome, \" o que mais se parece com o que está sentindo? \")\n",
        "  print('1 - Dor de cabeça, mal estar, palidez, vômito, evacuação líquida, febre')\n",
        "  print('2 - Irritação na pele, quiemaduras')\n",
        "  print('3 - Falta de ar, dores fortes no peito')\n",
        "  print('4 - Dores no corpo, torções, fraturas')\n",
        "  print('5 - Outros')\n",
        "  escolha = int(input('Escolha uma das opções acima: '))\n",
        "  return escolha-1\n",
        "\n",
        "escolha = triagem()\n",
        "\n",
        "preco = valor_consulta()\n",
        "\n",
        "print('\\nMédico escolhido: ', profissionais[escolha])\n",
        "print('Valor da consulta sem plano de saude: R$ ', preco,',00')\n",
        "\n",
        "plano = input('Possui plano de saúde, sim ou não? ')\n",
        "if(plano == 'sim'):\n",
        "  valor_com_desconto = preco*(1-0.3) #30% de desconto, ou seja, preco * 0.7\n",
        "  print('Valor da consulta com plano de saude: R$ ', valor_com_desconto,',00')\n",
        "print('Agradecemos a preferência!')\n"
      ],
      "execution_count": 6,
      "outputs": [
        {
          "output_type": "stream",
          "text": [
            "Digite seu nome: Igor\n",
            "Digite seu cpf, somente números: 5\n",
            "\n",
            " Igor  o que mais se parece com o que está sentindo? \n",
            "1 - Dor de cabeça, mal estar, palidez, vômito, evacuação líquida, febre\n",
            "2 - Irritação na pele, quiemaduras\n",
            "3 - Falta de ar, dores fortes no peito\n",
            "4 - Dores no corpo, torções, fraturas\n",
            "5 - Outros\n",
            "Escolha uma das opções acima: 3\n",
            "\n",
            "Médico escolhido:  Cardiologista\n",
            "Valor da consulta sem plano de saude: R$  300 ,00\n",
            "Possui plano de saúde, sim ou não? sim\n",
            "Valor da consulta com plano de saude: R$  210.0 ,00\n",
            "Agradecemos a preferência!\n"
          ],
          "name": "stdout"
        }
      ]
    }
  ]
}